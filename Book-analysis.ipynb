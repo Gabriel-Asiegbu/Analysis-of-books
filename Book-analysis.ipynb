{
 "cells": [
  {
   "cell_type": "markdown",
   "id": "aaaf3fbb",
   "metadata": {},
   "source": [
    "# ANALYSIS OF BOOKS USING NLP"
   ]
  },
  {
   "cell_type": "markdown",
   "id": "fa204813",
   "metadata": {},
   "source": [
    "<img src=\"digital book.jpg\">"
   ]
  },
  {
   "cell_type": "markdown",
   "id": "314c8895",
   "metadata": {},
   "source": [
    "## TABLE OF CONTENTS\n",
    "\n",
    "### 1. Data extraction\n",
    "### 2. Sumary Statistics\n",
    "### 3. Data Cleansing\n",
    "### 4. Exploratory Data Analysis\n",
    "### 5. Executive summary\n",
    "</br>\n",
    "</br>\n",
    "</br>\n",
    "</br>"
   ]
  },
  {
   "cell_type": "markdown",
   "id": "68e9e094",
   "metadata": {},
   "source": [
    "### 1. Data Extraction\n",
    "\n",
    "In this analysis, we have a dataset consisting of text files. The text files contains Ebooks by Project Gutenberg. The text files containing the books are serialized from 10001 to 12386.\n",
    "I will go ahead to extract the following features from each book in the dataset provided:\n",
    "<ul>\n",
    "    <li>Book ID</li>\n",
    "    <li>Title</li>\n",
    "    <li>Author</li>\n",
    "    <li>Language</li>\n",
    "    <li>Release date</li>\n",
    "    <li>Content</li>\n",
    "    <li>Length of Book(the number of words in the book)</li>\n",
    "</ul>"
   ]
  },
  {
   "cell_type": "markdown",
   "id": "c64a6f56",
   "metadata": {},
   "source": [
    "This information when extracted will be added to a pandas dataframe with the same heading as in the list of features above.\n"
   ]
  },
  {
   "cell_type": "markdown",
   "id": "d389acb9",
   "metadata": {},
   "source": [
    "Next, we will import the libraries that will be use for this analysis:\n",
    "<ul>\n",
    "    <li><b>Numpy</b> - Offers comprehensive mathematical functions, random number generators, linear algebra routines, Fourier\n",
    "        transforms, array manupulation and more. Interoperable</li>\n",
    "    <li><b>Pandas</b> - A data analysis and manipulation tool</li>\n",
    "    <li><b>re</b> - provides a set of powerful regular expression facilities, which allows you to quickly check whether a given \n",
    "        string matches a given pattern </li>\n",
    "    <li><b>nltk</b> - Natural Language Toolkit(NLTK) is a leading platform for building Python programs to work with human \n",
    "        language data</li>\n",
    "    <li><b>Matplotlib</b> - Matplotlib is a comprehensive library for creating static, animated, and interactive visualizations in Python</li>\n",
    "    <li><b>Seaborn</b> - Seaborn is a Python data visualization library based on matplotlib. It provides a high-level interface for drawing attractive and informative statistical graphics.</li>\n",
    "</ul>"
   ]
  },
  {
   "cell_type": "code",
   "execution_count": 12,
   "id": "84bdd989",
   "metadata": {},
   "outputs": [],
   "source": [
    "import numpy as np\n",
    "import urllib.request\n",
    "import pandas as pd\n",
    "import re\n",
    "import nltk\n",
    "from nltk.corpus import stopwords\n",
    "import matplotlib.pyplot as plt\n",
    "%matplotlib inline\n",
    "import seaborn as sns\n",
    "from nltk.tokenize import TreebankWordTokenizer\n",
    "import zipfile"
   ]
  },
  {
   "cell_type": "markdown",
   "id": "4a7dbd20",
   "metadata": {},
   "source": [
    "Next we define a function that will read the data from the files. I will call the function 'reader'."
   ]
  },
  {
   "cell_type": "code",
   "execution_count": 2,
   "id": "5955268c",
   "metadata": {},
   "outputs": [],
   "source": [
    "#def reader(filename):\n",
    "    # Open the file in read-only mode\n",
    "#    with open(filename, 'r') as file:\n",
    "        # Return the contents of the file into a string variable\n",
    "#        string = file.read()\n",
    "#    return string"
   ]
  },
  {
   "cell_type": "code",
   "execution_count": 15,
   "id": "54bfb1e3",
   "metadata": {},
   "outputs": [],
   "source": [
    "def reader(filename):\n",
    "    # Open the zip file\n",
    "    with zipfile.ZipFile('book_dataset.zip', 'r') as zip_ref:\n",
    "        # Extract the .txt file to a variable\n",
    "        file_name = zip_ref.namelist()[0]\n",
    "        txt_file = zip_ref.read(filename)\n",
    "        # Print the contents of the .txt file\n",
    "    return (txt_file.decode())"
   ]
  },
  {
   "cell_type": "markdown",
   "id": "d8e3725e",
   "metadata": {},
   "source": [
    "Next, i will populate the dataframe columns by reading each file in the dataset, extracting the required information and then updating the table. The text files in the dataset provided are serial from 10001 to 12386. However, i noticed that some of the text files are missing; hence, i will write our code in such a way that it will skip those missing text files."
   ]
  },
  {
   "cell_type": "code",
   "execution_count": 14,
   "id": "a5d02f44",
   "metadata": {},
   "outputs": [
    {
     "data": {
      "text/html": [
       "<div>\n",
       "<style scoped>\n",
       "    .dataframe tbody tr th:only-of-type {\n",
       "        vertical-align: middle;\n",
       "    }\n",
       "\n",
       "    .dataframe tbody tr th {\n",
       "        vertical-align: top;\n",
       "    }\n",
       "\n",
       "    .dataframe thead th {\n",
       "        text-align: right;\n",
       "    }\n",
       "</style>\n",
       "<table border=\"1\" class=\"dataframe\">\n",
       "  <thead>\n",
       "    <tr style=\"text-align: right;\">\n",
       "      <th></th>\n",
       "      <th>Book_ID</th>\n",
       "      <th>Title</th>\n",
       "      <th>Author</th>\n",
       "      <th>Language</th>\n",
       "      <th>Release Date</th>\n",
       "      <th>Content</th>\n",
       "      <th>Length_of_book</th>\n",
       "    </tr>\n",
       "  </thead>\n",
       "  <tbody>\n",
       "    <tr>\n",
       "      <th>0</th>\n",
       "      <td>10001</td>\n",
       "      <td>Apocolocyntosis</td>\n",
       "      <td>Lucius Seneca</td>\n",
       "      <td>English</td>\n",
       "      <td>November 10, 2003</td>\n",
       "      <td>APOCOLOCYNTOSIS ***\\r\\n\\r\\n\\r\\n\\r\\n\\r\\nProduce...</td>\n",
       "      <td>5563</td>\n",
       "    </tr>\n",
       "    <tr>\n",
       "      <th>1</th>\n",
       "      <td>10002</td>\n",
       "      <td>The House on the Borderland</td>\n",
       "      <td>William Hope Hodgson</td>\n",
       "      <td>English</td>\n",
       "      <td>November 10, 2003</td>\n",
       "      <td>THE HOUSE ON THE BORDERLAND ***\\r\\n\\r\\n\\r\\n\\r\\...</td>\n",
       "      <td>50943</td>\n",
       "    </tr>\n",
       "    <tr>\n",
       "      <th>2</th>\n",
       "      <td>10003</td>\n",
       "      <td>My First Years As A Frenchwoman, 1876-1879</td>\n",
       "      <td>Mary King Waddington</td>\n",
       "      <td>English</td>\n",
       "      <td>November 10, 2003</td>\n",
       "      <td>FIRST YEARS AS A FRENCHWOMAN ***\\r\\n\\r\\n\\r\\n\\r...</td>\n",
       "      <td>61313</td>\n",
       "    </tr>\n",
       "    <tr>\n",
       "      <th>3</th>\n",
       "      <td>10005</td>\n",
       "      <td>A Voyage to the Moon</td>\n",
       "      <td>George Tucker</td>\n",
       "      <td>English</td>\n",
       "      <td>November 7, 2003</td>\n",
       "      <td>A VOYAGE TO THE MOON ***\\r\\n\\r\\n\\r\\n\\r\\n\\r\\nPr...</td>\n",
       "      <td>70397</td>\n",
       "    </tr>\n",
       "    <tr>\n",
       "      <th>4</th>\n",
       "      <td>10006</td>\n",
       "      <td>La Fiammetta</td>\n",
       "      <td>Giovanni Boccaccio</td>\n",
       "      <td>English</td>\n",
       "      <td>November 7, 2003</td>\n",
       "      <td>LA FIAMMETTA ***\\r\\n\\r\\n\\r\\n\\r\\n\\r\\nProduced b...</td>\n",
       "      <td>13270</td>\n",
       "    </tr>\n",
       "  </tbody>\n",
       "</table>\n",
       "</div>"
      ],
      "text/plain": [
       "  Book_ID                                       Title                Author  \\\n",
       "0   10001                             Apocolocyntosis         Lucius Seneca   \n",
       "1   10002                 The House on the Borderland  William Hope Hodgson   \n",
       "2   10003  My First Years As A Frenchwoman, 1876-1879  Mary King Waddington   \n",
       "3   10005                        A Voyage to the Moon         George Tucker   \n",
       "4   10006                                La Fiammetta    Giovanni Boccaccio   \n",
       "\n",
       "  Language       Release Date  \\\n",
       "0  English  November 10, 2003   \n",
       "1  English  November 10, 2003   \n",
       "2  English  November 10, 2003   \n",
       "3  English   November 7, 2003   \n",
       "4  English   November 7, 2003   \n",
       "\n",
       "                                             Content Length_of_book  \n",
       "0  APOCOLOCYNTOSIS ***\\r\\n\\r\\n\\r\\n\\r\\n\\r\\nProduce...           5563  \n",
       "1  THE HOUSE ON THE BORDERLAND ***\\r\\n\\r\\n\\r\\n\\r\\...          50943  \n",
       "2  FIRST YEARS AS A FRENCHWOMAN ***\\r\\n\\r\\n\\r\\n\\r...          61313  \n",
       "3  A VOYAGE TO THE MOON ***\\r\\n\\r\\n\\r\\n\\r\\n\\r\\nPr...          70397  \n",
       "4  LA FIAMMETTA ***\\r\\n\\r\\n\\r\\n\\r\\n\\r\\nProduced b...          13270  "
      ]
     },
     "execution_count": 14,
     "metadata": {},
     "output_type": "execute_result"
    }
   ],
   "source": [
    "#Create an empty dataframe with columns ['Book_ID', 'Title', 'Author', 'Language', 'Release Date', 'Content', 'Length_of_book']\n",
    "df = pd.DataFrame(columns=['Book_ID', 'Title', 'Author', 'Language', 'Release Date', 'Content', 'Length_of_book'])\n",
    "\n",
    "#loop through the text files and extract the data needed for the analysis\n",
    "for i in range(10001,12387):\n",
    "    filename = str(i)+'.txt'\n",
    "    try:\n",
    "        #read file into variable \"my_string\"\n",
    "        my_string = reader(filename)\n",
    "        \n",
    "        # Use a regular expression to extract the date\n",
    "        date_regex = r\"Release Date: ([A-Za-z]+ \\d{1,2}, \\d{4})\"\n",
    "        date = re.search(date_regex, my_string).group(1)\n",
    "        date = date.strip()\n",
    "        \n",
    "        #Use a regular expression to extract the name of the author\n",
    "        name_regex = r\"Author: (.*)\\n\"\n",
    "        name = re.search(name_regex, my_string).group(1)\n",
    "        name = name.strip()\n",
    "        \n",
    "        #Use regular expression to extract the language of text\n",
    "        lang_regex = r\"Language:(.*)\\n\"\n",
    "        language = re.search(lang_regex, my_string).group(1)\n",
    "        language = language.strip()\n",
    "        \n",
    "        #Use regular expression to extract the language of text\n",
    "        title_regex = r\"Title:(.*)\\n\"\n",
    "        title = re.search(title_regex, my_string).group(1)\n",
    "        title = title.strip()\n",
    "        \n",
    "        #use regular expression to extract the content of text\n",
    "        content_regex = r\"\\*\\*\\* START OF THIS PROJECT GUTENBERG EBOOK(.+?)End of the Project Gutenberg EBook\"\n",
    "        content = re.search(content_regex, my_string, re.DOTALL).group(1)\n",
    "        content = content.strip()\n",
    "        \n",
    "        #Calculate the length of the content of the book\n",
    "        length = len(content.split())\n",
    "        \n",
    "        #create a dictionary of the data extracted to append to the dataframe - df\n",
    "        df1 = pd.DataFrame([{'Book_ID':i, 'Title':title, 'Author':name, 'Language':language, 'Release Date':date,\\\n",
    "                   'Content':content, 'Length_of_book':length}])\n",
    "        #append data to df\n",
    "        df = pd.concat([df, df1], axis=0, ignore_index=True)\n",
    "    except:\n",
    "        continue\n",
    "df.head()"
   ]
  },
  {
   "cell_type": "markdown",
   "id": "585ce0bb",
   "metadata": {},
   "source": [
    "### 2.0 Summary Statistics"
   ]
  },
  {
   "cell_type": "markdown",
   "id": "3b0b48b9",
   "metadata": {},
   "source": [
    "In this section, we will summarize the data we were able to extract from the text files. We will verify that the datatype for the features are correct, check if we have missing data, the total number of data etc.</br> Armed with the output from this section, we can comfortably proceed to clean up the data and do EDA. Without further ado, let's proceed."
   ]
  },
  {
   "cell_type": "markdown",
   "id": "1ccfefae",
   "metadata": {},
   "source": [
    "Using the \"shape\" method, we can deduce that our collected data has 626 records and 7 features(columns) as below."
   ]
  },
  {
   "cell_type": "code",
   "execution_count": 4,
   "id": "d606722d",
   "metadata": {},
   "outputs": [
    {
     "data": {
      "text/plain": [
       "(626, 7)"
      ]
     },
     "execution_count": 4,
     "metadata": {},
     "output_type": "execute_result"
    }
   ],
   "source": [
    "df.shape"
   ]
  },
  {
   "cell_type": "markdown",
   "id": "f626b1c8",
   "metadata": {},
   "source": [
    "Probing further, we can see that:\n",
    "<ol>\n",
    "    <li>There are 626 books in the dataset. Recall that the first text file in the dataset has a serial number of 10001 and the last has a serial number of 12386 hence we were expecting 2385 records. Therefore, 1759 text files are either missing from the dataset, are blank or simply not in the format required for the data extraction to happen.</li>\n",
    "     <li>Out of the 626 books, only 562 are unique; hence, 64 books presumably had more than one copy in the dataset. However, the length column as well as the release date colum doesn't colaborate this because only 2 books have the same number of words. Hence, the repetetions are simply different volumes of the same book</li>\n",
    "    <li>381 authorswrote the 626 books</li>\n",
    "    <li>We have one unique language hence all the texts are in English</li>\n",
    "</ol>"
   ]
  },
  {
   "cell_type": "code",
   "execution_count": 5,
   "id": "8b19eea6",
   "metadata": {},
   "outputs": [
    {
     "data": {
      "text/html": [
       "<div>\n",
       "<style scoped>\n",
       "    .dataframe tbody tr th:only-of-type {\n",
       "        vertical-align: middle;\n",
       "    }\n",
       "\n",
       "    .dataframe tbody tr th {\n",
       "        vertical-align: top;\n",
       "    }\n",
       "\n",
       "    .dataframe thead th {\n",
       "        text-align: right;\n",
       "    }\n",
       "</style>\n",
       "<table border=\"1\" class=\"dataframe\">\n",
       "  <thead>\n",
       "    <tr style=\"text-align: right;\">\n",
       "      <th></th>\n",
       "      <th>Book_ID</th>\n",
       "      <th>Title</th>\n",
       "      <th>Author</th>\n",
       "      <th>Language</th>\n",
       "      <th>Release Date</th>\n",
       "      <th>Content</th>\n",
       "      <th>Length_of_book</th>\n",
       "    </tr>\n",
       "  </thead>\n",
       "  <tbody>\n",
       "    <tr>\n",
       "      <th>count</th>\n",
       "      <td>626</td>\n",
       "      <td>626</td>\n",
       "      <td>626</td>\n",
       "      <td>626</td>\n",
       "      <td>626</td>\n",
       "      <td>626</td>\n",
       "      <td>626</td>\n",
       "    </tr>\n",
       "    <tr>\n",
       "      <th>unique</th>\n",
       "      <td>626</td>\n",
       "      <td>562</td>\n",
       "      <td>381</td>\n",
       "      <td>1</td>\n",
       "      <td>114</td>\n",
       "      <td>626</td>\n",
       "      <td>625</td>\n",
       "    </tr>\n",
       "    <tr>\n",
       "      <th>top</th>\n",
       "      <td>10001</td>\n",
       "      <td>The Mirror of Literature, Amusement, and Instr...</td>\n",
       "      <td>Various</td>\n",
       "      <td>English</td>\n",
       "      <td>January 22, 2004</td>\n",
       "      <td>APOCOLOCYNTOSIS ***\\n\\n\\n\\n\\nProduced by Ted G...</td>\n",
       "      <td>4080</td>\n",
       "    </tr>\n",
       "    <tr>\n",
       "      <th>freq</th>\n",
       "      <td>1</td>\n",
       "      <td>39</td>\n",
       "      <td>111</td>\n",
       "      <td>626</td>\n",
       "      <td>20</td>\n",
       "      <td>1</td>\n",
       "      <td>2</td>\n",
       "    </tr>\n",
       "  </tbody>\n",
       "</table>\n",
       "</div>"
      ],
      "text/plain": [
       "        Book_ID                                              Title   Author  \\\n",
       "count       626                                                626      626   \n",
       "unique      626                                                562      381   \n",
       "top       10001  The Mirror of Literature, Amusement, and Instr...  Various   \n",
       "freq          1                                                 39      111   \n",
       "\n",
       "       Language      Release Date  \\\n",
       "count       626               626   \n",
       "unique        1               114   \n",
       "top     English  January 22, 2004   \n",
       "freq        626                20   \n",
       "\n",
       "                                                  Content  Length_of_book  \n",
       "count                                                 626             626  \n",
       "unique                                                626             625  \n",
       "top     APOCOLOCYNTOSIS ***\\n\\n\\n\\n\\nProduced by Ted G...            4080  \n",
       "freq                                                    1               2  "
      ]
     },
     "execution_count": 5,
     "metadata": {},
     "output_type": "execute_result"
    }
   ],
   "source": [
    "df.describe()"
   ]
  },
  {
   "cell_type": "markdown",
   "id": "d96b099c",
   "metadata": {},
   "source": [
    "Lets check if there is any NULL values in our data as well as the datatypes."
   ]
  },
  {
   "cell_type": "code",
   "execution_count": 6,
   "id": "303d4a6a",
   "metadata": {},
   "outputs": [
    {
     "name": "stdout",
     "output_type": "stream",
     "text": [
      "<class 'pandas.core.frame.DataFrame'>\n",
      "RangeIndex: 626 entries, 0 to 625\n",
      "Data columns (total 7 columns):\n",
      " #   Column          Non-Null Count  Dtype \n",
      "---  ------          --------------  ----- \n",
      " 0   Book_ID         626 non-null    object\n",
      " 1   Title           626 non-null    object\n",
      " 2   Author          626 non-null    object\n",
      " 3   Language        626 non-null    object\n",
      " 4   Release Date    626 non-null    object\n",
      " 5   Content         626 non-null    object\n",
      " 6   Length_of_book  626 non-null    object\n",
      "dtypes: object(7)\n",
      "memory usage: 34.4+ KB\n"
     ]
    }
   ],
   "source": [
    "df.info()"
   ]
  },
  {
   "cell_type": "markdown",
   "id": "faf7f295",
   "metadata": {},
   "source": [
    "It can be seen that there are no null data but the datatypes are not all correct.The \"Book_ID\" and \"length_of_book\" supposed to be integers. While the \"Release date\" supposed to be a date-time type. Let's change that immediatly."
   ]
  },
  {
   "cell_type": "code",
   "execution_count": 7,
   "id": "84f2d653",
   "metadata": {},
   "outputs": [
    {
     "name": "stdout",
     "output_type": "stream",
     "text": [
      "<class 'pandas.core.frame.DataFrame'>\n",
      "RangeIndex: 626 entries, 0 to 625\n",
      "Data columns (total 7 columns):\n",
      " #   Column          Non-Null Count  Dtype         \n",
      "---  ------          --------------  -----         \n",
      " 0   Book_ID         626 non-null    int64         \n",
      " 1   Title           626 non-null    object        \n",
      " 2   Author          626 non-null    object        \n",
      " 3   Language        626 non-null    object        \n",
      " 4   Release Date    626 non-null    datetime64[ns]\n",
      " 5   Content         626 non-null    object        \n",
      " 6   Length_of_book  626 non-null    int64         \n",
      "dtypes: datetime64[ns](1), int64(2), object(4)\n",
      "memory usage: 34.4+ KB\n"
     ]
    }
   ],
   "source": [
    "# Convert the 'Release Date' column to datetime objects\n",
    "df['Release Date'] = pd.to_datetime(df['Release Date'])\n",
    "# Convert the 'Book_ID' and 'Length_of_book' columns to integers\n",
    "for col in ['Book_ID', 'Length_of_book']:\n",
    "    df[col] = pd.to_numeric(df[col])\n",
    "# Print the dataframe info\n",
    "df.info()"
   ]
  },
  {
   "cell_type": "markdown",
   "id": "8059316c",
   "metadata": {},
   "source": [
    "Correct!!! <span style=\"font-size:20px\">&#128540;</span>"
   ]
  },
  {
   "cell_type": "markdown",
   "id": "1c064d0c",
   "metadata": {},
   "source": [
    "### 3.0 Data Cleansing"
   ]
  },
  {
   "cell_type": "markdown",
   "id": "f838734b",
   "metadata": {},
   "source": [
    "In this session, we'll clean the data by doing the following:\n",
    "<ul>\n",
    "    <li>We will clean the text data in the \"Content\" column. This involves removing noise, removing punctuations and tokenizing the texts</li>\n",
    "    <li>We'll also investigate and remove the books with the same word count if it is confirmed that they are the same</li>\n",
    "</ul>\n",
    "\n",
    "Let's get cranking..."
   ]
  },
  {
   "cell_type": "markdown",
   "id": "4465dee2",
   "metadata": {},
   "source": [
    "#### Removing Noise\n",
    "\n",
    "In text analytics, removing noise (i.e. unneccesary information) is a key part of getting the data into a usable format. Some techniques are standard, but for our dataset, we'll do the following:\n",
    "\n",
    "* removing the web-urls\n",
    "* making everything lower case\n",
    "* removing punctuation"
   ]
  },
  {
   "cell_type": "code",
   "execution_count": 8,
   "id": "5f50eb69",
   "metadata": {},
   "outputs": [
    {
     "data": {
      "text/html": [
       "<div>\n",
       "<style scoped>\n",
       "    .dataframe tbody tr th:only-of-type {\n",
       "        vertical-align: middle;\n",
       "    }\n",
       "\n",
       "    .dataframe tbody tr th {\n",
       "        vertical-align: top;\n",
       "    }\n",
       "\n",
       "    .dataframe thead th {\n",
       "        text-align: right;\n",
       "    }\n",
       "</style>\n",
       "<table border=\"1\" class=\"dataframe\">\n",
       "  <thead>\n",
       "    <tr style=\"text-align: right;\">\n",
       "      <th></th>\n",
       "      <th>Book_ID</th>\n",
       "      <th>Title</th>\n",
       "      <th>Author</th>\n",
       "      <th>Language</th>\n",
       "      <th>Release Date</th>\n",
       "      <th>Content</th>\n",
       "      <th>Length_of_book</th>\n",
       "    </tr>\n",
       "  </thead>\n",
       "  <tbody>\n",
       "    <tr>\n",
       "      <th>0</th>\n",
       "      <td>10001</td>\n",
       "      <td>Apocolocyntosis</td>\n",
       "      <td>Lucius Seneca</td>\n",
       "      <td>English</td>\n",
       "      <td>2003-11-10</td>\n",
       "      <td>APOCOLOCYNTOSIS ***Produced by Ted Garvin, Ben...</td>\n",
       "      <td>5563</td>\n",
       "    </tr>\n",
       "    <tr>\n",
       "      <th>1</th>\n",
       "      <td>10002</td>\n",
       "      <td>The House on the Borderland</td>\n",
       "      <td>William Hope Hodgson</td>\n",
       "      <td>English</td>\n",
       "      <td>2003-11-10</td>\n",
       "      <td>THE HOUSE ON THE BORDERLAND ***Produced by Suz...</td>\n",
       "      <td>50943</td>\n",
       "    </tr>\n",
       "    <tr>\n",
       "      <th>2</th>\n",
       "      <td>10003</td>\n",
       "      <td>My First Years As A Frenchwoman, 1876-1879</td>\n",
       "      <td>Mary King Waddington</td>\n",
       "      <td>English</td>\n",
       "      <td>2003-11-10</td>\n",
       "      <td>FIRST YEARS AS A FRENCHWOMAN ***This file was ...</td>\n",
       "      <td>61313</td>\n",
       "    </tr>\n",
       "    <tr>\n",
       "      <th>3</th>\n",
       "      <td>10005</td>\n",
       "      <td>A Voyage to the Moon</td>\n",
       "      <td>George Tucker</td>\n",
       "      <td>English</td>\n",
       "      <td>2003-11-07</td>\n",
       "      <td>A VOYAGE TO THE MOON ***Produced by Christine ...</td>\n",
       "      <td>70397</td>\n",
       "    </tr>\n",
       "    <tr>\n",
       "      <th>4</th>\n",
       "      <td>10006</td>\n",
       "      <td>La Fiammetta</td>\n",
       "      <td>Giovanni Boccaccio</td>\n",
       "      <td>English</td>\n",
       "      <td>2003-11-07</td>\n",
       "      <td>LA FIAMMETTA ***Produced by Ted Garvin, Dave M...</td>\n",
       "      <td>13270</td>\n",
       "    </tr>\n",
       "  </tbody>\n",
       "</table>\n",
       "</div>"
      ],
      "text/plain": [
       "   Book_ID                                       Title                Author  \\\n",
       "0    10001                             Apocolocyntosis         Lucius Seneca   \n",
       "1    10002                 The House on the Borderland  William Hope Hodgson   \n",
       "2    10003  My First Years As A Frenchwoman, 1876-1879  Mary King Waddington   \n",
       "3    10005                        A Voyage to the Moon         George Tucker   \n",
       "4    10006                                La Fiammetta    Giovanni Boccaccio   \n",
       "\n",
       "  Language Release Date                                            Content  \\\n",
       "0  English   2003-11-10  APOCOLOCYNTOSIS ***Produced by Ted Garvin, Ben...   \n",
       "1  English   2003-11-10  THE HOUSE ON THE BORDERLAND ***Produced by Suz...   \n",
       "2  English   2003-11-10  FIRST YEARS AS A FRENCHWOMAN ***This file was ...   \n",
       "3  English   2003-11-07  A VOYAGE TO THE MOON ***Produced by Christine ...   \n",
       "4  English   2003-11-07  LA FIAMMETTA ***Produced by Ted Garvin, Dave M...   \n",
       "\n",
       "   Length_of_book  \n",
       "0            5563  \n",
       "1           50943  \n",
       "2           61313  \n",
       "3           70397  \n",
       "4           13270  "
      ]
     },
     "execution_count": 8,
     "metadata": {},
     "output_type": "execute_result"
    }
   ],
   "source": [
    "#removing web-urls\n",
    "pattern_url = r'http[s]?://(?:[A-Za-z]|[0-9]|[$-_@.&+]|[!*\\(\\),]|(?:%[0-9A-Fa-f][0-9A-Fa-f]))+'\n",
    "subs_url = r''\n",
    "df['Content'] = df['Content'].replace(to_replace = pattern_url, value = subs_url, regex = True)\n",
    "\n",
    "#remove new line escape character\n",
    "pattern_url = r\"\\n\"\n",
    "df['Content'] = df['Content'].replace(to_replace = pattern_url, value = \"\", regex = True)\n",
    "\n",
    "df.head()"
   ]
  },
  {
   "cell_type": "markdown",
   "id": "000d05ee",
   "metadata": {},
   "source": [
    "#### Remove punctuation\n",
    "\n",
    "First we make all the text lower case to remove some noise from capitalisation."
   ]
  },
  {
   "cell_type": "code",
   "execution_count": 9,
   "id": "d9f76375",
   "metadata": {},
   "outputs": [
    {
     "data": {
      "text/html": [
       "<div>\n",
       "<style scoped>\n",
       "    .dataframe tbody tr th:only-of-type {\n",
       "        vertical-align: middle;\n",
       "    }\n",
       "\n",
       "    .dataframe tbody tr th {\n",
       "        vertical-align: top;\n",
       "    }\n",
       "\n",
       "    .dataframe thead th {\n",
       "        text-align: right;\n",
       "    }\n",
       "</style>\n",
       "<table border=\"1\" class=\"dataframe\">\n",
       "  <thead>\n",
       "    <tr style=\"text-align: right;\">\n",
       "      <th></th>\n",
       "      <th>Book_ID</th>\n",
       "      <th>Title</th>\n",
       "      <th>Author</th>\n",
       "      <th>Language</th>\n",
       "      <th>Release Date</th>\n",
       "      <th>Content</th>\n",
       "      <th>Length_of_book</th>\n",
       "    </tr>\n",
       "  </thead>\n",
       "  <tbody>\n",
       "    <tr>\n",
       "      <th>0</th>\n",
       "      <td>10001</td>\n",
       "      <td>Apocolocyntosis</td>\n",
       "      <td>Lucius Seneca</td>\n",
       "      <td>English</td>\n",
       "      <td>2003-11-10</td>\n",
       "      <td>apocolocyntosis ***produced by ted garvin, ben...</td>\n",
       "      <td>5563</td>\n",
       "    </tr>\n",
       "  </tbody>\n",
       "</table>\n",
       "</div>"
      ],
      "text/plain": [
       "   Book_ID            Title         Author Language Release Date  \\\n",
       "0    10001  Apocolocyntosis  Lucius Seneca  English   2003-11-10   \n",
       "\n",
       "                                             Content  Length_of_book  \n",
       "0  apocolocyntosis ***produced by ted garvin, ben...            5563  "
      ]
     },
     "execution_count": 9,
     "metadata": {},
     "output_type": "execute_result"
    }
   ],
   "source": [
    "df['Content'] = df['Content'].str.lower()\n",
    "df.head(1)"
   ]
  },
  {
   "cell_type": "markdown",
   "id": "bc7255d7",
   "metadata": {},
   "source": [
    "Now let's remove the punctuation using the string import."
   ]
  },
  {
   "cell_type": "code",
   "execution_count": 10,
   "id": "044c9ca4",
   "metadata": {},
   "outputs": [
    {
     "name": "stdout",
     "output_type": "stream",
     "text": [
      "!\"#$%&'()*+,-./:;<=>?@[\\]^_`{|}~\n"
     ]
    }
   ],
   "source": [
    "import string\n",
    "print(string.punctuation)"
   ]
  },
  {
   "cell_type": "code",
   "execution_count": 11,
   "id": "b2306973",
   "metadata": {},
   "outputs": [
    {
     "data": {
      "text/html": [
       "<div>\n",
       "<style scoped>\n",
       "    .dataframe tbody tr th:only-of-type {\n",
       "        vertical-align: middle;\n",
       "    }\n",
       "\n",
       "    .dataframe tbody tr th {\n",
       "        vertical-align: top;\n",
       "    }\n",
       "\n",
       "    .dataframe thead th {\n",
       "        text-align: right;\n",
       "    }\n",
       "</style>\n",
       "<table border=\"1\" class=\"dataframe\">\n",
       "  <thead>\n",
       "    <tr style=\"text-align: right;\">\n",
       "      <th></th>\n",
       "      <th>Book_ID</th>\n",
       "      <th>Title</th>\n",
       "      <th>Author</th>\n",
       "      <th>Language</th>\n",
       "      <th>Release Date</th>\n",
       "      <th>Content</th>\n",
       "      <th>Length_of_book</th>\n",
       "    </tr>\n",
       "  </thead>\n",
       "  <tbody>\n",
       "    <tr>\n",
       "      <th>0</th>\n",
       "      <td>10001</td>\n",
       "      <td>Apocolocyntosis</td>\n",
       "      <td>Lucius Seneca</td>\n",
       "      <td>English</td>\n",
       "      <td>2003-11-10</td>\n",
       "      <td>apocolocyntosis produced by ted garvin ben cou...</td>\n",
       "      <td>5563</td>\n",
       "    </tr>\n",
       "    <tr>\n",
       "      <th>1</th>\n",
       "      <td>10002</td>\n",
       "      <td>The House on the Borderland</td>\n",
       "      <td>William Hope Hodgson</td>\n",
       "      <td>English</td>\n",
       "      <td>2003-11-10</td>\n",
       "      <td>the house on the borderland produced by suzann...</td>\n",
       "      <td>50943</td>\n",
       "    </tr>\n",
       "  </tbody>\n",
       "</table>\n",
       "</div>"
      ],
      "text/plain": [
       "   Book_ID                        Title                Author Language  \\\n",
       "0    10001              Apocolocyntosis         Lucius Seneca  English   \n",
       "1    10002  The House on the Borderland  William Hope Hodgson  English   \n",
       "\n",
       "  Release Date                                            Content  \\\n",
       "0   2003-11-10  apocolocyntosis produced by ted garvin ben cou...   \n",
       "1   2003-11-10  the house on the borderland produced by suzann...   \n",
       "\n",
       "   Length_of_book  \n",
       "0            5563  \n",
       "1           50943  "
      ]
     },
     "execution_count": 11,
     "metadata": {},
     "output_type": "execute_result"
    }
   ],
   "source": [
    "def remove_punctuation(text):\n",
    "    return ''.join([l for l in text if l not in string.punctuation])\n",
    "\n",
    "df['Content'] = df['Content'].apply(remove_punctuation)\n",
    "df.head(2)"
   ]
  },
  {
   "cell_type": "markdown",
   "id": "10bf2a23",
   "metadata": {},
   "source": [
    "#### Tokenization\n",
    "A tokeniser divides text into a sequence of tokens, which roughly correspond to \"words\". We will use tokenisers to clean up the data, making it ready for analysis"
   ]
  },
  {
   "cell_type": "code",
   "execution_count": 12,
   "id": "428c3430",
   "metadata": {},
   "outputs": [
    {
     "data": {
      "text/html": [
       "<div>\n",
       "<style scoped>\n",
       "    .dataframe tbody tr th:only-of-type {\n",
       "        vertical-align: middle;\n",
       "    }\n",
       "\n",
       "    .dataframe tbody tr th {\n",
       "        vertical-align: top;\n",
       "    }\n",
       "\n",
       "    .dataframe thead th {\n",
       "        text-align: right;\n",
       "    }\n",
       "</style>\n",
       "<table border=\"1\" class=\"dataframe\">\n",
       "  <thead>\n",
       "    <tr style=\"text-align: right;\">\n",
       "      <th></th>\n",
       "      <th>Book_ID</th>\n",
       "      <th>Title</th>\n",
       "      <th>Author</th>\n",
       "      <th>Language</th>\n",
       "      <th>Release Date</th>\n",
       "      <th>Content</th>\n",
       "      <th>Length_of_book</th>\n",
       "    </tr>\n",
       "  </thead>\n",
       "  <tbody>\n",
       "    <tr>\n",
       "      <th>0</th>\n",
       "      <td>10001</td>\n",
       "      <td>Apocolocyntosis</td>\n",
       "      <td>Lucius Seneca</td>\n",
       "      <td>English</td>\n",
       "      <td>2003-11-10</td>\n",
       "      <td>[apocolocyntosis, produced, by, ted, garvin, b...</td>\n",
       "      <td>5563</td>\n",
       "    </tr>\n",
       "    <tr>\n",
       "      <th>1</th>\n",
       "      <td>10002</td>\n",
       "      <td>The House on the Borderland</td>\n",
       "      <td>William Hope Hodgson</td>\n",
       "      <td>English</td>\n",
       "      <td>2003-11-10</td>\n",
       "      <td>[the, house, on, the, borderland, produced, by...</td>\n",
       "      <td>50943</td>\n",
       "    </tr>\n",
       "    <tr>\n",
       "      <th>2</th>\n",
       "      <td>10003</td>\n",
       "      <td>My First Years As A Frenchwoman, 1876-1879</td>\n",
       "      <td>Mary King Waddington</td>\n",
       "      <td>English</td>\n",
       "      <td>2003-11-10</td>\n",
       "      <td>[first, years, as, a, frenchwoman, this, file,...</td>\n",
       "      <td>61313</td>\n",
       "    </tr>\n",
       "    <tr>\n",
       "      <th>3</th>\n",
       "      <td>10005</td>\n",
       "      <td>A Voyage to the Moon</td>\n",
       "      <td>George Tucker</td>\n",
       "      <td>English</td>\n",
       "      <td>2003-11-07</td>\n",
       "      <td>[a, voyage, to, the, moon, produced, by, chris...</td>\n",
       "      <td>70397</td>\n",
       "    </tr>\n",
       "    <tr>\n",
       "      <th>4</th>\n",
       "      <td>10006</td>\n",
       "      <td>La Fiammetta</td>\n",
       "      <td>Giovanni Boccaccio</td>\n",
       "      <td>English</td>\n",
       "      <td>2003-11-07</td>\n",
       "      <td>[la, fiammetta, produced, by, ted, garvin, dav...</td>\n",
       "      <td>13270</td>\n",
       "    </tr>\n",
       "  </tbody>\n",
       "</table>\n",
       "</div>"
      ],
      "text/plain": [
       "   Book_ID                                       Title                Author  \\\n",
       "0    10001                             Apocolocyntosis         Lucius Seneca   \n",
       "1    10002                 The House on the Borderland  William Hope Hodgson   \n",
       "2    10003  My First Years As A Frenchwoman, 1876-1879  Mary King Waddington   \n",
       "3    10005                        A Voyage to the Moon         George Tucker   \n",
       "4    10006                                La Fiammetta    Giovanni Boccaccio   \n",
       "\n",
       "  Language Release Date                                            Content  \\\n",
       "0  English   2003-11-10  [apocolocyntosis, produced, by, ted, garvin, b...   \n",
       "1  English   2003-11-10  [the, house, on, the, borderland, produced, by...   \n",
       "2  English   2003-11-10  [first, years, as, a, frenchwoman, this, file,...   \n",
       "3  English   2003-11-07  [a, voyage, to, the, moon, produced, by, chris...   \n",
       "4  English   2003-11-07  [la, fiammetta, produced, by, ted, garvin, dav...   \n",
       "\n",
       "   Length_of_book  \n",
       "0            5563  \n",
       "1           50943  \n",
       "2           61313  \n",
       "3           70397  \n",
       "4           13270  "
      ]
     },
     "execution_count": 12,
     "metadata": {},
     "output_type": "execute_result"
    }
   ],
   "source": [
    "tokeniser = TreebankWordTokenizer()\n",
    "df['Content'] = df['Content'].apply(tokeniser.tokenize)\n",
    "df.head()"
   ]
  },
  {
   "cell_type": "markdown",
   "id": "3aa00b2f",
   "metadata": {},
   "source": [
    "The content column has been tokenized appropriately. let's now recalculate the length of book based on the tokenized content to get a more accurate number of words in each book"
   ]
  },
  {
   "cell_type": "code",
   "execution_count": 13,
   "id": "c0fe2038",
   "metadata": {},
   "outputs": [
    {
     "data": {
      "text/html": [
       "<div>\n",
       "<style scoped>\n",
       "    .dataframe tbody tr th:only-of-type {\n",
       "        vertical-align: middle;\n",
       "    }\n",
       "\n",
       "    .dataframe tbody tr th {\n",
       "        vertical-align: top;\n",
       "    }\n",
       "\n",
       "    .dataframe thead th {\n",
       "        text-align: right;\n",
       "    }\n",
       "</style>\n",
       "<table border=\"1\" class=\"dataframe\">\n",
       "  <thead>\n",
       "    <tr style=\"text-align: right;\">\n",
       "      <th></th>\n",
       "      <th>Book_ID</th>\n",
       "      <th>Title</th>\n",
       "      <th>Author</th>\n",
       "      <th>Language</th>\n",
       "      <th>Release Date</th>\n",
       "      <th>Content</th>\n",
       "      <th>Length_of_book</th>\n",
       "    </tr>\n",
       "  </thead>\n",
       "  <tbody>\n",
       "    <tr>\n",
       "      <th>0</th>\n",
       "      <td>10001</td>\n",
       "      <td>Apocolocyntosis</td>\n",
       "      <td>Lucius Seneca</td>\n",
       "      <td>English</td>\n",
       "      <td>2003-11-10</td>\n",
       "      <td>[apocolocyntosis, produced, by, ted, garvin, b...</td>\n",
       "      <td>5216</td>\n",
       "    </tr>\n",
       "    <tr>\n",
       "      <th>1</th>\n",
       "      <td>10002</td>\n",
       "      <td>The House on the Borderland</td>\n",
       "      <td>William Hope Hodgson</td>\n",
       "      <td>English</td>\n",
       "      <td>2003-11-10</td>\n",
       "      <td>[the, house, on, the, borderland, produced, by...</td>\n",
       "      <td>46580</td>\n",
       "    </tr>\n",
       "    <tr>\n",
       "      <th>2</th>\n",
       "      <td>10003</td>\n",
       "      <td>My First Years As A Frenchwoman, 1876-1879</td>\n",
       "      <td>Mary King Waddington</td>\n",
       "      <td>English</td>\n",
       "      <td>2003-11-10</td>\n",
       "      <td>[first, years, as, a, frenchwoman, this, file,...</td>\n",
       "      <td>56127</td>\n",
       "    </tr>\n",
       "    <tr>\n",
       "      <th>3</th>\n",
       "      <td>10005</td>\n",
       "      <td>A Voyage to the Moon</td>\n",
       "      <td>George Tucker</td>\n",
       "      <td>English</td>\n",
       "      <td>2003-11-07</td>\n",
       "      <td>[a, voyage, to, the, moon, produced, by, chris...</td>\n",
       "      <td>64919</td>\n",
       "    </tr>\n",
       "    <tr>\n",
       "      <th>4</th>\n",
       "      <td>10006</td>\n",
       "      <td>La Fiammetta</td>\n",
       "      <td>Giovanni Boccaccio</td>\n",
       "      <td>English</td>\n",
       "      <td>2003-11-07</td>\n",
       "      <td>[la, fiammetta, produced, by, ted, garvin, dav...</td>\n",
       "      <td>12194</td>\n",
       "    </tr>\n",
       "  </tbody>\n",
       "</table>\n",
       "</div>"
      ],
      "text/plain": [
       "   Book_ID                                       Title                Author  \\\n",
       "0    10001                             Apocolocyntosis         Lucius Seneca   \n",
       "1    10002                 The House on the Borderland  William Hope Hodgson   \n",
       "2    10003  My First Years As A Frenchwoman, 1876-1879  Mary King Waddington   \n",
       "3    10005                        A Voyage to the Moon         George Tucker   \n",
       "4    10006                                La Fiammetta    Giovanni Boccaccio   \n",
       "\n",
       "  Language Release Date                                            Content  \\\n",
       "0  English   2003-11-10  [apocolocyntosis, produced, by, ted, garvin, b...   \n",
       "1  English   2003-11-10  [the, house, on, the, borderland, produced, by...   \n",
       "2  English   2003-11-10  [first, years, as, a, frenchwoman, this, file,...   \n",
       "3  English   2003-11-07  [a, voyage, to, the, moon, produced, by, chris...   \n",
       "4  English   2003-11-07  [la, fiammetta, produced, by, ted, garvin, dav...   \n",
       "\n",
       "   Length_of_book  \n",
       "0            5216  \n",
       "1           46580  \n",
       "2           56127  \n",
       "3           64919  \n",
       "4           12194  "
      ]
     },
     "execution_count": 13,
     "metadata": {},
     "output_type": "execute_result"
    }
   ],
   "source": [
    "df['Length_of_book'] = df['Content'].apply(lambda x: len(x))\n",
    "df.head()"
   ]
  },
  {
   "cell_type": "markdown",
   "id": "01773867",
   "metadata": {},
   "source": [
    "Finally we check for the books that have same word count to confirm if they are duplicates"
   ]
  },
  {
   "cell_type": "code",
   "execution_count": 14,
   "id": "ad1b7a20",
   "metadata": {},
   "outputs": [
    {
     "data": {
      "text/html": [
       "<div>\n",
       "<style scoped>\n",
       "    .dataframe tbody tr th:only-of-type {\n",
       "        vertical-align: middle;\n",
       "    }\n",
       "\n",
       "    .dataframe tbody tr th {\n",
       "        vertical-align: top;\n",
       "    }\n",
       "\n",
       "    .dataframe thead th {\n",
       "        text-align: right;\n",
       "    }\n",
       "</style>\n",
       "<table border=\"1\" class=\"dataframe\">\n",
       "  <thead>\n",
       "    <tr style=\"text-align: right;\">\n",
       "      <th></th>\n",
       "      <th>Book_ID</th>\n",
       "      <th>Title</th>\n",
       "      <th>Author</th>\n",
       "      <th>Language</th>\n",
       "      <th>Release Date</th>\n",
       "      <th>Content</th>\n",
       "      <th>Length_of_book</th>\n",
       "    </tr>\n",
       "  </thead>\n",
       "  <tbody>\n",
       "    <tr>\n",
       "      <th>98</th>\n",
       "      <td>10332</td>\n",
       "      <td>The Mirror of Literature, Amusement, and Instr...</td>\n",
       "      <td>Various</td>\n",
       "      <td>English</td>\n",
       "      <td>2003-11-29</td>\n",
       "      <td>[the, mirror, of, literature, produced, by, jo...</td>\n",
       "      <td>11380</td>\n",
       "    </tr>\n",
       "    <tr>\n",
       "      <th>573</th>\n",
       "      <td>11442</td>\n",
       "      <td>The Mirror of Literature, Amusement, and Instr...</td>\n",
       "      <td>Various</td>\n",
       "      <td>English</td>\n",
       "      <td>2004-03-04</td>\n",
       "      <td>[mirror, of, literature, no, 405, produced, by...</td>\n",
       "      <td>11380</td>\n",
       "    </tr>\n",
       "  </tbody>\n",
       "</table>\n",
       "</div>"
      ],
      "text/plain": [
       "     Book_ID                                              Title   Author  \\\n",
       "98     10332  The Mirror of Literature, Amusement, and Instr...  Various   \n",
       "573    11442  The Mirror of Literature, Amusement, and Instr...  Various   \n",
       "\n",
       "    Language Release Date                                            Content  \\\n",
       "98   English   2003-11-29  [the, mirror, of, literature, produced, by, jo...   \n",
       "573  English   2004-03-04  [mirror, of, literature, no, 405, produced, by...   \n",
       "\n",
       "     Length_of_book  \n",
       "98            11380  \n",
       "573           11380  "
      ]
     },
     "execution_count": 14,
     "metadata": {},
     "output_type": "execute_result"
    }
   ],
   "source": [
    "# Count the frequency of each value in the 'filter' column\n",
    "filter_counts = df['Length_of_book'].value_counts()\n",
    "\n",
    "# Select the values with a frequency greater than 1\n",
    "frequent_values = filter_counts[filter_counts > 1].index\n",
    "\n",
    "# Use boolean indexing to select the rows with a 'filter' value that is in the frequent_values list\n",
    "filtered_df = df[df['Length_of_book'].isin(frequent_values)]\n",
    "filtered_df"
   ]
  },
  {
   "cell_type": "markdown",
   "id": "d6f4883f",
   "metadata": {},
   "source": [
    "We immediatly noticed that the Release Dates for both books are different; hence, they can't be duplicates. On further inspection using the Book_ID, we found out that they are actually the same book title but different volumes. The word count being the same is just a wierd outlier.\n",
    "</br>10332 ----> Title: The Mirror of Literature, Amusement, and Instruction Volume XII. F, No. 325, August 2, 1828.\n",
    "</br>11442 ----> Title: The Mirror of Literature, Amusement, and Instruction Vol. 14, Issue 405, December 19, 1829"
   ]
  },
  {
   "cell_type": "markdown",
   "id": "eaf32753",
   "metadata": {},
   "source": [
    "### 4. Exploratory Data Analysis"
   ]
  },
  {
   "cell_type": "markdown",
   "id": "7f2957a5",
   "metadata": {},
   "source": [
    "In this session, we will explore the relationships between  the various data features and draw insights from those relationships.\n",
    "<ul>\n",
    "    <li>Authors that published the highest number of books</li>\n",
    "    <li>Number of books vs the frequency</li>\n",
    "    <li>Authors and books with the highest word count</li>\n",
    "    <li>Number of books published over time</li>\n",
    "</ul>"
   ]
  },
  {
   "cell_type": "markdown",
   "id": "60544c65",
   "metadata": {},
   "source": [
    "First of all, let's look at the distribution of the number of books written by an author and also the distribution of the word counts in a book."
   ]
  },
  {
   "cell_type": "code",
   "execution_count": 15,
   "id": "f8f201fa",
   "metadata": {
    "scrolled": true
   },
   "outputs": [
    {
     "data": {
      "text/plain": [
       "array([[<AxesSubplot:title={'center':'Author'}>,\n",
       "        <AxesSubplot:title={'center':'Length_of_book'}>]], dtype=object)"
      ]
     },
     "execution_count": 15,
     "metadata": {},
     "output_type": "execute_result"
    },
    {
     "data": {
      "image/png": "[encoded data removed]",
      "text/plain": [
       "<Figure size 1080x288 with 2 Axes>"
      ]
     },
     "metadata": {
      "needs_background": "light"
     },
     "output_type": "display_data"
    }
   ],
   "source": [
    "author_counts = df['Author'].value_counts()\n",
    "len_book = df['Length_of_book']\n",
    "combined_series = pd.concat([author_counts,len_book], axis=1)\n",
    "features=['Author','Length_of_book']\n",
    "combined_series[features].hist(figsize=(15,4))"
   ]
  },
  {
   "cell_type": "markdown",
   "id": "e7951215",
   "metadata": {},
   "source": [
    "As can be seen, the distribution for the Number of book written per author is just like a single bar standing on \"1-10'. This shows that almost all the authors wrote 1-10 book. However, if we zoom into the data, there are a very scanty group of authors that wrote more than 20, 40 and 100 books respectively.\n",
    "</br>\n",
    "For the distribution of word count per book, majority of the books has between 1 and 200,000 words. However, there are a tiny amount of books that has more than 800,000 words. </br>These extreme observations has all the tenets of an outlier and needs to be investigated further."
   ]
  },
  {
   "cell_type": "code",
   "execution_count": 16,
   "id": "ad094619",
   "metadata": {},
   "outputs": [
    {
     "data": {
      "image/png": "[encoded data removed]",
      "text/plain": [
       "<Figure size 1080x504 with 1 Axes>"
      ]
     },
     "metadata": {},
     "output_type": "display_data"
    }
   ],
   "source": [
    "author_1 = combined_series[combined_series['Author'] == 1]['Author'].count()\n",
    "author_2_10 = combined_series[(combined_series['Author'] > 1) & (combined_series['Author'] <= 10)]['Author'].count()\n",
    "author_11_20 = combined_series[(combined_series['Author'] > 10) & (combined_series['Author'] <= 115)]['Author'].count()\n",
    "sizes = [author_1, author_2_10, author_11_20]\n",
    "labels = [\"wrote 1 book\", \"wrote 2-10 books\", \"wrote more than 11 books\"]\n",
    "# Plot the pie chart\n",
    "# Create a new figure with a larger plot area\n",
    "plt.figure(figsize=(15, 7))\n",
    "plt.pie(sizes, labels=labels, autopct='%1.1f%%')\n",
    "plt.axis('equal')\n",
    "plt.show()"
   ]
  },
  {
   "cell_type": "markdown",
   "id": "fbc395e7",
   "metadata": {},
   "source": [
    "From the chart above, it can be seen that 89% of authors (339 authors) out of the 381 authors wrote one(1) book, 10.2% of the authors (39 authors) wrote between 2 and 10 books and just 3 authors wrote more than 11 books. \n",
    "</br>\n",
    "On the flip side, the most worded book is \"The Anti-Slavely Examiner, Ominibus\" written by the American Anti-Slavery Society. this is one out of the 5 books they wrote."
   ]
  },
  {
   "cell_type": "code",
   "execution_count": 17,
   "id": "0b36c69e",
   "metadata": {},
   "outputs": [
    {
     "data": {
      "text/html": [
       "<div>\n",
       "<style scoped>\n",
       "    .dataframe tbody tr th:only-of-type {\n",
       "        vertical-align: middle;\n",
       "    }\n",
       "\n",
       "    .dataframe tbody tr th {\n",
       "        vertical-align: top;\n",
       "    }\n",
       "\n",
       "    .dataframe thead th {\n",
       "        text-align: right;\n",
       "    }\n",
       "</style>\n",
       "<table border=\"1\" class=\"dataframe\">\n",
       "  <thead>\n",
       "    <tr style=\"text-align: right;\">\n",
       "      <th></th>\n",
       "      <th>Book_ID</th>\n",
       "      <th>Title</th>\n",
       "      <th>Author</th>\n",
       "      <th>Language</th>\n",
       "      <th>Release Date</th>\n",
       "      <th>Content</th>\n",
       "      <th>Length_of_book</th>\n",
       "    </tr>\n",
       "  </thead>\n",
       "  <tbody>\n",
       "    <tr>\n",
       "      <th>499</th>\n",
       "      <td>11275</td>\n",
       "      <td>The Anti-Slavery Examiner, Omnibus</td>\n",
       "      <td>American Anti-Slavery Society</td>\n",
       "      <td>English</td>\n",
       "      <td>2004-02-25</td>\n",
       "      <td>[the, antislavery, examiner, omnibus, produced...</td>\n",
       "      <td>894382</td>\n",
       "    </tr>\n",
       "    <tr>\n",
       "      <th>497</th>\n",
       "      <td>11273</td>\n",
       "      <td>The Anti-Slavery Examiner, Part 3 of 4</td>\n",
       "      <td>American Anti-Slavery Society</td>\n",
       "      <td>English</td>\n",
       "      <td>2004-02-25</td>\n",
       "      <td>[antislavery, examiner, part, 3, of, 4, produc...</td>\n",
       "      <td>321735</td>\n",
       "    </tr>\n",
       "    <tr>\n",
       "      <th>496</th>\n",
       "      <td>11272</td>\n",
       "      <td>The Anti-Slavery Examiner, Part 2 of 4</td>\n",
       "      <td>American Anti-Slavery Society</td>\n",
       "      <td>English</td>\n",
       "      <td>2004-02-25</td>\n",
       "      <td>[antislavery, examiner, part, 2, of, 4, produc...</td>\n",
       "      <td>281174</td>\n",
       "    </tr>\n",
       "    <tr>\n",
       "      <th>495</th>\n",
       "      <td>11271</td>\n",
       "      <td>The Anti-Slavery Examiner, Part 1 of 4</td>\n",
       "      <td>American Anti-Slavery Society</td>\n",
       "      <td>English</td>\n",
       "      <td>2004-02-25</td>\n",
       "      <td>[antislavery, examiner, part, 1, of, 4, produc...</td>\n",
       "      <td>225208</td>\n",
       "    </tr>\n",
       "    <tr>\n",
       "      <th>498</th>\n",
       "      <td>11274</td>\n",
       "      <td>The Anti-Slavery Examiner, Part 4 of 4</td>\n",
       "      <td>American Anti-Slavery Society</td>\n",
       "      <td>English</td>\n",
       "      <td>2004-02-25</td>\n",
       "      <td>[antislavery, examiner, part, 4, of, 4, produc...</td>\n",
       "      <td>66340</td>\n",
       "    </tr>\n",
       "  </tbody>\n",
       "</table>\n",
       "</div>"
      ],
      "text/plain": [
       "     Book_ID                                   Title  \\\n",
       "499    11275      The Anti-Slavery Examiner, Omnibus   \n",
       "497    11273  The Anti-Slavery Examiner, Part 3 of 4   \n",
       "496    11272  The Anti-Slavery Examiner, Part 2 of 4   \n",
       "495    11271  The Anti-Slavery Examiner, Part 1 of 4   \n",
       "498    11274  The Anti-Slavery Examiner, Part 4 of 4   \n",
       "\n",
       "                            Author Language Release Date  \\\n",
       "499  American Anti-Slavery Society  English   2004-02-25   \n",
       "497  American Anti-Slavery Society  English   2004-02-25   \n",
       "496  American Anti-Slavery Society  English   2004-02-25   \n",
       "495  American Anti-Slavery Society  English   2004-02-25   \n",
       "498  American Anti-Slavery Society  English   2004-02-25   \n",
       "\n",
       "                                               Content  Length_of_book  \n",
       "499  [the, antislavery, examiner, omnibus, produced...          894382  \n",
       "497  [antislavery, examiner, part, 3, of, 4, produc...          321735  \n",
       "496  [antislavery, examiner, part, 2, of, 4, produc...          281174  \n",
       "495  [antislavery, examiner, part, 1, of, 4, produc...          225208  \n",
       "498  [antislavery, examiner, part, 4, of, 4, produc...           66340  "
      ]
     },
     "execution_count": 17,
     "metadata": {},
     "output_type": "execute_result"
    }
   ],
   "source": [
    "df.sort_values(by='Length_of_book', ascending=False, inplace=True)\n",
    "df[df['Author'] == 'American Anti-Slavery Society']"
   ]
  },
  {
   "cell_type": "markdown",
   "id": "61cdb1cd",
   "metadata": {},
   "source": [
    "Below is the distribution of 42 authors that wrote more than one book:"
   ]
  },
  {
   "cell_type": "code",
   "execution_count": 66,
   "id": "6e182cd2",
   "metadata": {},
   "outputs": [
    {
     "name": "stdout",
     "output_type": "stream",
     "text": [
      "Various                                111\n",
      "W.W. Jacobs                             48\n",
      "Anonymous                               20\n",
      "James D. Richardson                      7\n",
      "Max Brand                                6\n",
      "American Anti-Slavery Society            5\n",
      "Unknown                                  5\n",
      "Richard Le Gallienne                     5\n",
      "Samuel Johnson                           5\n",
      "Edited by James D. Richardson            4\n",
      "Algernon Blackwood                       4\n",
      "Work Projects Administration             3\n",
      "Cassius Dio                              3\n",
      "Thomas Clarkson                          3\n",
      "William Godwin                           3\n",
      "James Fenimore Cooper                    3\n",
      "Leigh Hunt                               2\n",
      "Robert Kerr                              2\n",
      "Jeffery Farnol                           2\n",
      "Washington Allston                       2\n",
      "Talbot Mundy                             2\n",
      "Rupert Hughes                            2\n",
      "Samuel F. B. Morse                       2\n",
      "Editor-in-Chief: Kuno Francke            2\n",
      "William Hope Hodgson                     2\n",
      "Lord Dunsany                             2\n",
      "E. F. Benson                             2\n",
      "Arthur Mee and J.A. Hammerton, Eds.      2\n",
      "Charles Duke Yonge                       2\n",
      "Theophilus Cibber                        2\n",
      "Arthur Conan Doyle                       2\n",
      "M.P. Shiel                               2\n",
      "H. Irving Hancock                        2\n",
      "George MacDonald                         2\n",
      "Margaret O. (Wilson) Oliphant            2\n",
      "John Fiske                               2\n",
      "Amy Le Feuvre                            2\n",
      "Arnold Bennett                           2\n",
      "Arthur Schopenhauer                      2\n",
      "Samuel Taylor Coleridge                  2\n",
      "John Luther Langworthy                   2\n",
      "John Stuart Mill                         2\n",
      "Name: Author, dtype: int64\n"
     ]
    }
   ],
   "source": [
    "print(author_counts.head(42))"
   ]
  },
  {
   "cell_type": "code",
   "execution_count": 19,
   "id": "f41a6c2c",
   "metadata": {},
   "outputs": [
    {
     "data": {
      "image/png": "[encoded data removed]",
      "text/plain": [
       "<Figure size 1080x360 with 1 Axes>"
      ]
     },
     "metadata": {
      "needs_background": "light"
     },
     "output_type": "display_data"
    }
   ],
   "source": [
    "author_counts = df['Author'].value_counts()\n",
    "\n",
    "# Sort the series in descending order by count\n",
    "author_counts = author_counts.sort_values(ascending=False)\n",
    "\n",
    "# Select the top 10 values\n",
    "top_10 = author_counts.head(42)\n",
    "\n",
    "\n",
    "# Create a new figure with a larger plot area\n",
    "plt.figure(figsize=(15, 5))\n",
    "\n",
    "# Plot the top 10 values as a bar chart\n",
    "top_10.plot(kind='bar', grid='True', color = ['red' if v < 5 else 'green' for v in author_counts.head(43).tolist()])\n",
    "\n",
    "# Display the plot\n",
    "plt.show()"
   ]
  },
  {
   "cell_type": "code",
   "execution_count": 20,
   "id": "4f1b938a",
   "metadata": {
    "scrolled": true
   },
   "outputs": [],
   "source": [
    "#print(author_counts.head(43))"
   ]
  },
  {
   "cell_type": "code",
   "execution_count": 21,
   "id": "1c3c6081",
   "metadata": {},
   "outputs": [
    {
     "data": {
      "image/png": "[encoded data removed]",
      "text/plain": [
       "<Figure size 1080x576 with 1 Axes>"
      ]
     },
     "metadata": {
      "needs_background": "light"
     },
     "output_type": "display_data"
    }
   ],
   "source": [
    "date_counts = df['Release Date'].value_counts()\n",
    "plt.figure(figsize=(15,8))\n",
    "date_counts.plot(x='index', y='values',title='Time Series Graph', \n",
    "       xlabel='Date', ylabel='Value')\n",
    "plt.show()"
   ]
  },
  {
   "cell_type": "markdown",
   "id": "0db698ad",
   "metadata": {},
   "source": [
    "From the graph, we can see that more books were released between 2003 and mid 2004 after which releases flat-lined."
   ]
  },
  {
   "cell_type": "markdown",
   "id": "d1673ea4",
   "metadata": {},
   "source": [
    "#### Aditional Features"
   ]
  },
  {
   "cell_type": "markdown",
   "id": "4dca6ba1",
   "metadata": {},
   "source": [
    "If this analysis is to be of any practical importance, it needs to solve a real world problem. For instance, as an educator you need to help your students bolster their vocabulary and that is done by reading books. Theoritically, the more the number of unique words in a book, the more diverse its vocabulary.\n",
    "</br>\n",
    "Based on this premise, we will engineer two new features- \"Stemmed_Content\" and \"Unique Words\". The later will be used to recommend books that will bolster the vocabulary of students."
   ]
  },
  {
   "cell_type": "markdown",
   "id": "7c663010",
   "metadata": {},
   "source": [
    "#### Stemming\n",
    "Stemming is the process of transforming to the root word. It uses an algorithm that removes common word-endings from English words, such as “ly,” “es,” “ed,” and “s.”\n",
    "\n",
    "For example, assuming for an analysis you may want to consider “carefully,” “cared,” “cares,” “caringly” as “care” instead of separate words. There are three widely used stemming algorithms, namely:\n",
    "\n",
    "Porter\n",
    "Lancaster\n",
    "Snowball\n",
    "Out of these three, we will be using the SnowballStemmer."
   ]
  },
  {
   "cell_type": "code",
   "execution_count": 25,
   "id": "2c3c968b",
   "metadata": {},
   "outputs": [
    {
     "data": {
      "text/html": [
       "<div>\n",
       "<style scoped>\n",
       "    .dataframe tbody tr th:only-of-type {\n",
       "        vertical-align: middle;\n",
       "    }\n",
       "\n",
       "    .dataframe tbody tr th {\n",
       "        vertical-align: top;\n",
       "    }\n",
       "\n",
       "    .dataframe thead th {\n",
       "        text-align: right;\n",
       "    }\n",
       "</style>\n",
       "<table border=\"1\" class=\"dataframe\">\n",
       "  <thead>\n",
       "    <tr style=\"text-align: right;\">\n",
       "      <th></th>\n",
       "      <th>Book_ID</th>\n",
       "      <th>Title</th>\n",
       "      <th>Author</th>\n",
       "      <th>Language</th>\n",
       "      <th>Release Date</th>\n",
       "      <th>Content</th>\n",
       "      <th>Length_of_book</th>\n",
       "      <th>Stemmed_Content</th>\n",
       "    </tr>\n",
       "  </thead>\n",
       "  <tbody>\n",
       "    <tr>\n",
       "      <th>499</th>\n",
       "      <td>11275</td>\n",
       "      <td>The Anti-Slavery Examiner, Omnibus</td>\n",
       "      <td>American Anti-Slavery Society</td>\n",
       "      <td>English</td>\n",
       "      <td>2004-02-25</td>\n",
       "      <td>[the, antislavery, examiner, omnibus, produced...</td>\n",
       "      <td>894382</td>\n",
       "      <td>[the, antislaveri, examin, omnibus, produc, by...</td>\n",
       "    </tr>\n",
       "    <tr>\n",
       "      <th>497</th>\n",
       "      <td>11273</td>\n",
       "      <td>The Anti-Slavery Examiner, Part 3 of 4</td>\n",
       "      <td>American Anti-Slavery Society</td>\n",
       "      <td>English</td>\n",
       "      <td>2004-02-25</td>\n",
       "      <td>[antislavery, examiner, part, 3, of, 4, produc...</td>\n",
       "      <td>321735</td>\n",
       "      <td>[antislaveri, examin, part, 3, of, 4, produc, ...</td>\n",
       "    </tr>\n",
       "    <tr>\n",
       "      <th>496</th>\n",
       "      <td>11272</td>\n",
       "      <td>The Anti-Slavery Examiner, Part 2 of 4</td>\n",
       "      <td>American Anti-Slavery Society</td>\n",
       "      <td>English</td>\n",
       "      <td>2004-02-25</td>\n",
       "      <td>[antislavery, examiner, part, 2, of, 4, produc...</td>\n",
       "      <td>281174</td>\n",
       "      <td>[antislaveri, examin, part, 2, of, 4, produc, ...</td>\n",
       "    </tr>\n",
       "    <tr>\n",
       "      <th>400</th>\n",
       "      <td>11119</td>\n",
       "      <td>Personal Memoirs Of A Residence Of Thirty Year...</td>\n",
       "      <td>Henry Rowe Schoolcraft</td>\n",
       "      <td>English</td>\n",
       "      <td>2004-02-16</td>\n",
       "      <td>[thirty, years, with, the, indian, tribes, pro...</td>\n",
       "      <td>251076</td>\n",
       "      <td>[thirti, year, with, the, indian, tribe, produ...</td>\n",
       "    </tr>\n",
       "    <tr>\n",
       "      <th>479</th>\n",
       "      <td>11248</td>\n",
       "      <td>The Delights of Wisdom Pertaining to Conjugial...</td>\n",
       "      <td>Emanuel Swedenborg</td>\n",
       "      <td>English</td>\n",
       "      <td>2004-02-23</td>\n",
       "      <td>[the, delights, of, wisdom, produced, by, juli...</td>\n",
       "      <td>237266</td>\n",
       "      <td>[the, delight, of, wisdom, produc, by, juliet,...</td>\n",
       "    </tr>\n",
       "  </tbody>\n",
       "</table>\n",
       "</div>"
      ],
      "text/plain": [
       "     Book_ID                                              Title  \\\n",
       "499    11275                 The Anti-Slavery Examiner, Omnibus   \n",
       "497    11273             The Anti-Slavery Examiner, Part 3 of 4   \n",
       "496    11272             The Anti-Slavery Examiner, Part 2 of 4   \n",
       "400    11119  Personal Memoirs Of A Residence Of Thirty Year...   \n",
       "479    11248  The Delights of Wisdom Pertaining to Conjugial...   \n",
       "\n",
       "                            Author Language Release Date  \\\n",
       "499  American Anti-Slavery Society  English   2004-02-25   \n",
       "497  American Anti-Slavery Society  English   2004-02-25   \n",
       "496  American Anti-Slavery Society  English   2004-02-25   \n",
       "400         Henry Rowe Schoolcraft  English   2004-02-16   \n",
       "479             Emanuel Swedenborg  English   2004-02-23   \n",
       "\n",
       "                                               Content  Length_of_book  \\\n",
       "499  [the, antislavery, examiner, omnibus, produced...          894382   \n",
       "497  [antislavery, examiner, part, 3, of, 4, produc...          321735   \n",
       "496  [antislavery, examiner, part, 2, of, 4, produc...          281174   \n",
       "400  [thirty, years, with, the, indian, tribes, pro...          251076   \n",
       "479  [the, delights, of, wisdom, produced, by, juli...          237266   \n",
       "\n",
       "                                       Stemmed_Content  \n",
       "499  [the, antislaveri, examin, omnibus, produc, by...  \n",
       "497  [antislaveri, examin, part, 3, of, 4, produc, ...  \n",
       "496  [antislaveri, examin, part, 2, of, 4, produc, ...  \n",
       "400  [thirti, year, with, the, indian, tribe, produ...  \n",
       "479  [the, delight, of, wisdom, produc, by, juliet,...  "
      ]
     },
     "execution_count": 25,
     "metadata": {},
     "output_type": "execute_result"
    }
   ],
   "source": [
    "from nltk import SnowballStemmer\n",
    "stemmer = SnowballStemmer('english')\n",
    "def df_stemmer(words, stemmer):\n",
    "    return [stemmer.stem(word) for word in words]\n",
    "df['Stemmed_Content'] = df['Content'].apply(df_stemmer, args=(stemmer, ))\n",
    "df.head()"
   ]
  },
  {
   "cell_type": "markdown",
   "id": "e2e500b4",
   "metadata": {},
   "source": [
    "Now that we have stemmed the texts in the \"Content\" column and generated a new feature - \"Stemmed_Content\", we will peoceed to remove the duplicates in the stem leaving us with just the unique words. Once we have done that, we can then do a count of the unique words and create a new feature - \"Unique_Words\"."
   ]
  },
  {
   "cell_type": "code",
   "execution_count": 26,
   "id": "ce5f15ce",
   "metadata": {
    "scrolled": true
   },
   "outputs": [
    {
     "data": {
      "text/html": [
       "<div>\n",
       "<style scoped>\n",
       "    .dataframe tbody tr th:only-of-type {\n",
       "        vertical-align: middle;\n",
       "    }\n",
       "\n",
       "    .dataframe tbody tr th {\n",
       "        vertical-align: top;\n",
       "    }\n",
       "\n",
       "    .dataframe thead th {\n",
       "        text-align: right;\n",
       "    }\n",
       "</style>\n",
       "<table border=\"1\" class=\"dataframe\">\n",
       "  <thead>\n",
       "    <tr style=\"text-align: right;\">\n",
       "      <th></th>\n",
       "      <th>Book_ID</th>\n",
       "      <th>Title</th>\n",
       "      <th>Author</th>\n",
       "      <th>Language</th>\n",
       "      <th>Release Date</th>\n",
       "      <th>Content</th>\n",
       "      <th>Length_of_book</th>\n",
       "      <th>Stemmed_Content</th>\n",
       "      <th>Unique_Words</th>\n",
       "    </tr>\n",
       "  </thead>\n",
       "  <tbody>\n",
       "    <tr>\n",
       "      <th>499</th>\n",
       "      <td>11275</td>\n",
       "      <td>The Anti-Slavery Examiner, Omnibus</td>\n",
       "      <td>American Anti-Slavery Society</td>\n",
       "      <td>English</td>\n",
       "      <td>2004-02-25</td>\n",
       "      <td>[the, antislavery, examiner, omnibus, produced...</td>\n",
       "      <td>894382</td>\n",
       "      <td>[the, antislaveri, examin, omnibus, produc, by...</td>\n",
       "      <td>63800</td>\n",
       "    </tr>\n",
       "    <tr>\n",
       "      <th>497</th>\n",
       "      <td>11273</td>\n",
       "      <td>The Anti-Slavery Examiner, Part 3 of 4</td>\n",
       "      <td>American Anti-Slavery Society</td>\n",
       "      <td>English</td>\n",
       "      <td>2004-02-25</td>\n",
       "      <td>[antislavery, examiner, part, 3, of, 4, produc...</td>\n",
       "      <td>321735</td>\n",
       "      <td>[antislaveri, examin, part, 3, of, 4, produc, ...</td>\n",
       "      <td>29653</td>\n",
       "    </tr>\n",
       "    <tr>\n",
       "      <th>496</th>\n",
       "      <td>11272</td>\n",
       "      <td>The Anti-Slavery Examiner, Part 2 of 4</td>\n",
       "      <td>American Anti-Slavery Society</td>\n",
       "      <td>English</td>\n",
       "      <td>2004-02-25</td>\n",
       "      <td>[antislavery, examiner, part, 2, of, 4, produc...</td>\n",
       "      <td>281174</td>\n",
       "      <td>[antislaveri, examin, part, 2, of, 4, produc, ...</td>\n",
       "      <td>29575</td>\n",
       "    </tr>\n",
       "    <tr>\n",
       "      <th>400</th>\n",
       "      <td>11119</td>\n",
       "      <td>Personal Memoirs Of A Residence Of Thirty Year...</td>\n",
       "      <td>Henry Rowe Schoolcraft</td>\n",
       "      <td>English</td>\n",
       "      <td>2004-02-16</td>\n",
       "      <td>[thirty, years, with, the, indian, tribes, pro...</td>\n",
       "      <td>251076</td>\n",
       "      <td>[thirti, year, with, the, indian, tribe, produ...</td>\n",
       "      <td>30334</td>\n",
       "    </tr>\n",
       "    <tr>\n",
       "      <th>479</th>\n",
       "      <td>11248</td>\n",
       "      <td>The Delights of Wisdom Pertaining to Conjugial...</td>\n",
       "      <td>Emanuel Swedenborg</td>\n",
       "      <td>English</td>\n",
       "      <td>2004-02-23</td>\n",
       "      <td>[the, delights, of, wisdom, produced, by, juli...</td>\n",
       "      <td>237266</td>\n",
       "      <td>[the, delight, of, wisdom, produc, by, juliet,...</td>\n",
       "      <td>18917</td>\n",
       "    </tr>\n",
       "  </tbody>\n",
       "</table>\n",
       "</div>"
      ],
      "text/plain": [
       "     Book_ID                                              Title  \\\n",
       "499    11275                 The Anti-Slavery Examiner, Omnibus   \n",
       "497    11273             The Anti-Slavery Examiner, Part 3 of 4   \n",
       "496    11272             The Anti-Slavery Examiner, Part 2 of 4   \n",
       "400    11119  Personal Memoirs Of A Residence Of Thirty Year...   \n",
       "479    11248  The Delights of Wisdom Pertaining to Conjugial...   \n",
       "\n",
       "                            Author Language Release Date  \\\n",
       "499  American Anti-Slavery Society  English   2004-02-25   \n",
       "497  American Anti-Slavery Society  English   2004-02-25   \n",
       "496  American Anti-Slavery Society  English   2004-02-25   \n",
       "400         Henry Rowe Schoolcraft  English   2004-02-16   \n",
       "479             Emanuel Swedenborg  English   2004-02-23   \n",
       "\n",
       "                                               Content  Length_of_book  \\\n",
       "499  [the, antislavery, examiner, omnibus, produced...          894382   \n",
       "497  [antislavery, examiner, part, 3, of, 4, produc...          321735   \n",
       "496  [antislavery, examiner, part, 2, of, 4, produc...          281174   \n",
       "400  [thirty, years, with, the, indian, tribes, pro...          251076   \n",
       "479  [the, delights, of, wisdom, produced, by, juli...          237266   \n",
       "\n",
       "                                       Stemmed_Content  Unique_Words  \n",
       "499  [the, antislaveri, examin, omnibus, produc, by...         63800  \n",
       "497  [antislaveri, examin, part, 3, of, 4, produc, ...         29653  \n",
       "496  [antislaveri, examin, part, 2, of, 4, produc, ...         29575  \n",
       "400  [thirti, year, with, the, indian, tribe, produ...         30334  \n",
       "479  [the, delight, of, wisdom, produc, by, juliet,...         18917  "
      ]
     },
     "execution_count": 26,
     "metadata": {},
     "output_type": "execute_result"
    }
   ],
   "source": [
    "# Remove duplicates using set()\n",
    "def remove_dup(stemmed):\n",
    "    return len(list(set(stemmed)))\n",
    "df['Unique_Words'] = df['Stemmed_Content'].apply(remove_dup)\n",
    "df.head()"
   ]
  },
  {
   "cell_type": "markdown",
   "id": "ff4cef07",
   "metadata": {},
   "source": [
    "### 5. Executive summary"
   ]
  },
  {
   "cell_type": "markdown",
   "id": "2daad7cf",
   "metadata": {},
   "source": [
    "Now let's put the maxim \"quality over quantity\" to test. Let's consider the first 10 novels with the highest number word count before stemming:"
   ]
  },
  {
   "cell_type": "code",
   "execution_count": 38,
   "id": "98a623f2",
   "metadata": {},
   "outputs": [
    {
     "data": {
      "text/html": [
       "<div>\n",
       "<style scoped>\n",
       "    .dataframe tbody tr th:only-of-type {\n",
       "        vertical-align: middle;\n",
       "    }\n",
       "\n",
       "    .dataframe tbody tr th {\n",
       "        vertical-align: top;\n",
       "    }\n",
       "\n",
       "    .dataframe thead th {\n",
       "        text-align: right;\n",
       "    }\n",
       "</style>\n",
       "<table border=\"1\" class=\"dataframe\">\n",
       "  <thead>\n",
       "    <tr style=\"text-align: right;\">\n",
       "      <th></th>\n",
       "      <th>Title</th>\n",
       "      <th>Author</th>\n",
       "      <th>Length_of_book</th>\n",
       "      <th>Unique_Words</th>\n",
       "    </tr>\n",
       "  </thead>\n",
       "  <tbody>\n",
       "    <tr>\n",
       "      <th>499</th>\n",
       "      <td>The Anti-Slavery Examiner, Omnibus</td>\n",
       "      <td>American Anti-Slavery Society</td>\n",
       "      <td>894382</td>\n",
       "      <td>63800</td>\n",
       "    </tr>\n",
       "    <tr>\n",
       "      <th>497</th>\n",
       "      <td>The Anti-Slavery Examiner, Part 3 of 4</td>\n",
       "      <td>American Anti-Slavery Society</td>\n",
       "      <td>321735</td>\n",
       "      <td>29653</td>\n",
       "    </tr>\n",
       "    <tr>\n",
       "      <th>496</th>\n",
       "      <td>The Anti-Slavery Examiner, Part 2 of 4</td>\n",
       "      <td>American Anti-Slavery Society</td>\n",
       "      <td>281174</td>\n",
       "      <td>29575</td>\n",
       "    </tr>\n",
       "    <tr>\n",
       "      <th>400</th>\n",
       "      <td>Personal Memoirs Of A Residence Of Thirty Year...</td>\n",
       "      <td>Henry Rowe Schoolcraft</td>\n",
       "      <td>251076</td>\n",
       "      <td>30334</td>\n",
       "    </tr>\n",
       "    <tr>\n",
       "      <th>479</th>\n",
       "      <td>The Delights of Wisdom Pertaining to Conjugial...</td>\n",
       "      <td>Emanuel Swedenborg</td>\n",
       "      <td>237266</td>\n",
       "      <td>18917</td>\n",
       "    </tr>\n",
       "    <tr>\n",
       "      <th>495</th>\n",
       "      <td>The Anti-Slavery Examiner, Part 1 of 4</td>\n",
       "      <td>American Anti-Slavery Society</td>\n",
       "      <td>225208</td>\n",
       "      <td>19414</td>\n",
       "    </tr>\n",
       "    <tr>\n",
       "      <th>392</th>\n",
       "      <td>History Of Modern Philosophy</td>\n",
       "      <td>Richard Falckenberg</td>\n",
       "      <td>218572</td>\n",
       "      <td>25783</td>\n",
       "    </tr>\n",
       "    <tr>\n",
       "      <th>196</th>\n",
       "      <td>The History of the Rise, Progress and Accompli...</td>\n",
       "      <td>Thomas Clarkson</td>\n",
       "      <td>218245</td>\n",
       "      <td>21247</td>\n",
       "    </tr>\n",
       "    <tr>\n",
       "      <th>382</th>\n",
       "      <td>The Orations of Marcus Tullius Cicero, Volume 4</td>\n",
       "      <td>Cicero</td>\n",
       "      <td>205768</td>\n",
       "      <td>18883</td>\n",
       "    </tr>\n",
       "    <tr>\n",
       "      <th>262</th>\n",
       "      <td>A General History and Collection of Voyages an...</td>\n",
       "      <td>Robert Kerr</td>\n",
       "      <td>205730</td>\n",
       "      <td>21395</td>\n",
       "    </tr>\n",
       "  </tbody>\n",
       "</table>\n",
       "</div>"
      ],
      "text/plain": [
       "                                                 Title  \\\n",
       "499                 The Anti-Slavery Examiner, Omnibus   \n",
       "497             The Anti-Slavery Examiner, Part 3 of 4   \n",
       "496             The Anti-Slavery Examiner, Part 2 of 4   \n",
       "400  Personal Memoirs Of A Residence Of Thirty Year...   \n",
       "479  The Delights of Wisdom Pertaining to Conjugial...   \n",
       "495             The Anti-Slavery Examiner, Part 1 of 4   \n",
       "392                       History Of Modern Philosophy   \n",
       "196  The History of the Rise, Progress and Accompli...   \n",
       "382    The Orations of Marcus Tullius Cicero, Volume 4   \n",
       "262  A General History and Collection of Voyages an...   \n",
       "\n",
       "                            Author  Length_of_book  Unique_Words  \n",
       "499  American Anti-Slavery Society          894382         63800  \n",
       "497  American Anti-Slavery Society          321735         29653  \n",
       "496  American Anti-Slavery Society          281174         29575  \n",
       "400         Henry Rowe Schoolcraft          251076         30334  \n",
       "479             Emanuel Swedenborg          237266         18917  \n",
       "495  American Anti-Slavery Society          225208         19414  \n",
       "392            Richard Falckenberg          218572         25783  \n",
       "196                Thomas Clarkson          218245         21247  \n",
       "382                         Cicero          205768         18883  \n",
       "262                    Robert Kerr          205730         21395  "
      ]
     },
     "execution_count": 38,
     "metadata": {},
     "output_type": "execute_result"
    }
   ],
   "source": [
    "df.sort_values(by='Length_of_book', ascending=False, inplace=True)\n",
    "df.loc[:,['Title','Author','Length_of_book','Unique_Words']].head(10)"
   ]
  },
  {
   "cell_type": "markdown",
   "id": "5e2a6ab0",
   "metadata": {},
   "source": [
    "Comparing the total number of words with the number of unique words, we can clearly see that the word count reduced drastically."
   ]
  },
  {
   "cell_type": "code",
   "execution_count": 73,
   "id": "429609fb",
   "metadata": {},
   "outputs": [
    {
     "data": {
      "image/png": "[encoded data removed]",
      "text/plain": [
       "<Figure size 720x720 with 1 Axes>"
      ]
     },
     "metadata": {
      "needs_background": "light"
     },
     "output_type": "display_data"
    }
   ],
   "source": [
    "df.sort_values(by='Length_of_book', ascending=False, inplace=True)\n",
    "df_cluster = df.loc[:,['Title','Length_of_book','Unique_Words']].head(10)\n",
    "\n",
    "# Create a clustered bar chart\n",
    "df_cluster.plot.barh(x='Title', y=['Length_of_book','Unique_Words'], stacked=False,figsize=(10, 10) )\n",
    "\n",
    "# Add a title and axis labels\n",
    "#plt.title('Clustered Bar Chart')\n",
    "#plt.xlabel('Title')\n",
    "#plt.ylabel('Word Count')\n",
    "\n",
    "# Show the plot\n",
    "plt.show()"
   ]
  },
  {
   "cell_type": "markdown",
   "id": "4ffe0967",
   "metadata": {},
   "source": [
    "Let us now check for the top 10 books; but this time, we'll not just check for the book with the highest word count but the ones with more unique words"
   ]
  },
  {
   "cell_type": "code",
   "execution_count": 58,
   "id": "54c7a3e0",
   "metadata": {},
   "outputs": [
    {
     "data": {
      "text/html": [
       "<div>\n",
       "<style scoped>\n",
       "    .dataframe tbody tr th:only-of-type {\n",
       "        vertical-align: middle;\n",
       "    }\n",
       "\n",
       "    .dataframe tbody tr th {\n",
       "        vertical-align: top;\n",
       "    }\n",
       "\n",
       "    .dataframe thead th {\n",
       "        text-align: right;\n",
       "    }\n",
       "</style>\n",
       "<table border=\"1\" class=\"dataframe\">\n",
       "  <thead>\n",
       "    <tr style=\"text-align: right;\">\n",
       "      <th></th>\n",
       "      <th>Title</th>\n",
       "      <th>Author</th>\n",
       "      <th>Length_of_book</th>\n",
       "      <th>Unique_Words</th>\n",
       "    </tr>\n",
       "  </thead>\n",
       "  <tbody>\n",
       "    <tr>\n",
       "      <th>499</th>\n",
       "      <td>The Anti-Slavery Examiner, Omnibus</td>\n",
       "      <td>American Anti-Slavery Society</td>\n",
       "      <td>894382</td>\n",
       "      <td>63800</td>\n",
       "    </tr>\n",
       "    <tr>\n",
       "      <th>568</th>\n",
       "      <td>Character Sketches of Romance, Fiction and the...</td>\n",
       "      <td>The Rev. E. Cobham Brewer, LL.D.</td>\n",
       "      <td>192606</td>\n",
       "      <td>33943</td>\n",
       "    </tr>\n",
       "    <tr>\n",
       "      <th>400</th>\n",
       "      <td>Personal Memoirs Of A Residence Of Thirty Year...</td>\n",
       "      <td>Henry Rowe Schoolcraft</td>\n",
       "      <td>251076</td>\n",
       "      <td>30334</td>\n",
       "    </tr>\n",
       "    <tr>\n",
       "      <th>497</th>\n",
       "      <td>The Anti-Slavery Examiner, Part 3 of 4</td>\n",
       "      <td>American Anti-Slavery Society</td>\n",
       "      <td>321735</td>\n",
       "      <td>29653</td>\n",
       "    </tr>\n",
       "    <tr>\n",
       "      <th>496</th>\n",
       "      <td>The Anti-Slavery Examiner, Part 2 of 4</td>\n",
       "      <td>American Anti-Slavery Society</td>\n",
       "      <td>281174</td>\n",
       "      <td>29575</td>\n",
       "    </tr>\n",
       "    <tr>\n",
       "      <th>240</th>\n",
       "      <td>The Former Philippines thru Foreign Eyes</td>\n",
       "      <td>Tomas de Comyn</td>\n",
       "      <td>201099</td>\n",
       "      <td>26062</td>\n",
       "    </tr>\n",
       "    <tr>\n",
       "      <th>392</th>\n",
       "      <td>History Of Modern Philosophy</td>\n",
       "      <td>Richard Falckenberg</td>\n",
       "      <td>218572</td>\n",
       "      <td>25783</td>\n",
       "    </tr>\n",
       "    <tr>\n",
       "      <th>130</th>\n",
       "      <td>Life Of Johnson, Volume 5</td>\n",
       "      <td>Boswell</td>\n",
       "      <td>181639</td>\n",
       "      <td>24981</td>\n",
       "    </tr>\n",
       "    <tr>\n",
       "      <th>182</th>\n",
       "      <td>English Literature</td>\n",
       "      <td>William J. Long</td>\n",
       "      <td>193030</td>\n",
       "      <td>24385</td>\n",
       "    </tr>\n",
       "    <tr>\n",
       "      <th>219</th>\n",
       "      <td>The History of England from the First Invasion...</td>\n",
       "      <td>John Lingard and Hilaire Belloc</td>\n",
       "      <td>193425</td>\n",
       "      <td>24032</td>\n",
       "    </tr>\n",
       "  </tbody>\n",
       "</table>\n",
       "</div>"
      ],
      "text/plain": [
       "                                                 Title  \\\n",
       "499                 The Anti-Slavery Examiner, Omnibus   \n",
       "568  Character Sketches of Romance, Fiction and the...   \n",
       "400  Personal Memoirs Of A Residence Of Thirty Year...   \n",
       "497             The Anti-Slavery Examiner, Part 3 of 4   \n",
       "496             The Anti-Slavery Examiner, Part 2 of 4   \n",
       "240           The Former Philippines thru Foreign Eyes   \n",
       "392                       History Of Modern Philosophy   \n",
       "130                          Life Of Johnson, Volume 5   \n",
       "182                                 English Literature   \n",
       "219  The History of England from the First Invasion...   \n",
       "\n",
       "                               Author  Length_of_book  Unique_Words  \n",
       "499     American Anti-Slavery Society          894382         63800  \n",
       "568  The Rev. E. Cobham Brewer, LL.D.          192606         33943  \n",
       "400            Henry Rowe Schoolcraft          251076         30334  \n",
       "497     American Anti-Slavery Society          321735         29653  \n",
       "496     American Anti-Slavery Society          281174         29575  \n",
       "240                    Tomas de Comyn          201099         26062  \n",
       "392               Richard Falckenberg          218572         25783  \n",
       "130                           Boswell          181639         24981  \n",
       "182                   William J. Long          193030         24385  \n",
       "219   John Lingard and Hilaire Belloc          193425         24032  "
      ]
     },
     "execution_count": 58,
     "metadata": {},
     "output_type": "execute_result"
    }
   ],
   "source": [
    "df.sort_values(by='Unique_Words', ascending=False, inplace=True)\n",
    "df.loc[:,['Title','Author','Length_of_book','Unique_Words']].head(10)"
   ]
  },
  {
   "cell_type": "code",
   "execution_count": 77,
   "id": "4542d5fe",
   "metadata": {},
   "outputs": [
    {
     "data": {
      "image/png": "[encoded data removed]",
      "text/plain": [
       "<Figure size 720x720 with 1 Axes>"
      ]
     },
     "metadata": {
      "needs_background": "light"
     },
     "output_type": "display_data"
    }
   ],
   "source": [
    "df.sort_values(by='Unique_Words', ascending=False, inplace=True)\n",
    "df_cluster = df.loc[:,['Title','Length_of_book','Unique_Words']].head(10)\n",
    "\n",
    "# Create a clustered bar chart\n",
    "df_cluster.plot.barh(x='Title', y=['Unique_Words'], stacked=False,figsize=(10, 10), color = 'green' )\n",
    "\n",
    "# Add a title and axis labels\n",
    "#plt.title('Clustered Bar Chart')\n",
    "#plt.xlabel('Title')\n",
    "#plt.ylabel('Word Count')\n",
    "\n",
    "# Show the plot\n",
    "plt.show()"
   ]
  },
  {
   "cell_type": "markdown",
   "id": "0237baa6",
   "metadata": {},
   "source": [
    "### Conclusion\n",
    "The books that has more words doesn't neccesarily have a more diverse selection of lexicon. Hence, if i am to recommend 10 book to my students or peers with a sole intention of improving their vocabulary, based on this analysis. I will recommend the 10 books above that where found to have more unique words than the rest.\n"
   ]
  },
  {
   "cell_type": "markdown",
   "id": "e6f96a3d",
   "metadata": {},
   "source": [
    "## Bibiography"
   ]
  },
  {
   "cell_type": "markdown",
   "id": "e9975a3a",
   "metadata": {},
   "source": [
    "Sources and Inspirational resources\n",
    "* <a href=\"http://www.nltk.org/\">NLTK</a>\n",
    "* <a href=\"https://pythonprogramming.net/tokenizing-words-sentences-nltk-tutorial/\">Tokenizing words and sentences with NLTK</a>\n",
    "* <a href=\"https://www.analyticsvidhya.com/blog/2017/01/ultimate-guide-to-understand-implement-natural-language-processing-codes-in-python/\">Ultimate Guide to Understand and Implement Natural Language Processing (with codes in Python)</a>\n",
    "* <a href=\"http://www.nltk.org/book/ch06.html\">Learning to Classify Text</a>\n",
    "* <a href=\"https://www.statlearning.com/\">An Introduction to Statistical Learning [Textbook]</a>\n",
    "* <a href=\"https://www.datacamp.com/\">Data Camp</a>\n",
    "* <a href=\"https://matplotlib.org/\">Matplotlib: Visualization with Python</a>"
   ]
  }
 ],
 "metadata": {
  "kernelspec": {
   "display_name": "Python 3 (ipykernel)",
   "language": "python",
   "name": "python3"
  },
  "language_info": {
   "codemirror_mode": {
    "name": "ipython",
    "version": 3
   },
   "file_extension": ".py",
   "mimetype": "text/x-python",
   "name": "python",
   "nbconvert_exporter": "python",
   "pygments_lexer": "ipython3",
   "version": "3.8.8"
  }
 },
 "nbformat": 4,
 "nbformat_minor": 5
}
